{
 "cells": [
  {
   "cell_type": "code",
   "execution_count": 1,
   "id": "858b9059-fd02-42bd-ad28-237f3a1e44f7",
   "metadata": {},
   "outputs": [],
   "source": [
    "#importing necessary libraries\n",
    "import pandas as pd\n",
    "import numpy as np\n",
    "import matplotlib.pyplot as plt\n",
    "%matplotlib inline\n",
    "%config InlineBackend.figure_formats = 'retina'\n",
    "import os\n",
    "import tensorflow as tf\n",
    "import keras\n",
    "import a1\n",
    "from tensorflow.keras.datasets import mnist\n",
    "from keras.models import Sequential\n",
    "from keras.layers import Input, Flatten, Dense, Dropout"
   ]
  },
  {
   "cell_type": "code",
   "execution_count": 2,
   "id": "e69ddfd0-f162-4ae8-9a21-1076480c93a8",
   "metadata": {},
   "outputs": [],
   "source": [
    "#defining numpy image array\n",
    "image = np.array([[[250,   2,   2], [  0, 255,   2], [  0,   0, 255]],\n",
    "                  [[  2,  20,  20], [250, 255, 255], [127, 127, 127]]])   "
   ]
  },
  {
   "cell_type": "code",
   "execution_count": 3,
   "id": "4f9cca64-30b6-4464-abe8-1006ef196710",
   "metadata": {},
   "outputs": [
    {
     "name": "stdout",
     "output_type": "stream",
     "text": [
      "2\n",
      "3\n"
     ]
    }
   ],
   "source": [
    "#Checking height|width/row|col\n",
    "rows, cols = image.shape[:2]\n",
    "print(rows)\n",
    "print(cols)"
   ]
  },
  {
   "cell_type": "code",
   "execution_count": 4,
   "id": "a7b98a92-3c3f-420d-8bea-a0c153ac0598",
   "metadata": {},
   "outputs": [
    {
     "data": {
      "text/plain": [
       "array([[1, 0, 0],\n",
       "       [0, 1, 1]])"
      ]
     },
     "execution_count": 4,
     "metadata": {},
     "output_type": "execute_result"
    }
   ],
   "source": [
    "#Checking 1st example\n",
    "light_pixels = a1.light_pixels(image, 20, 'red')\n",
    "light_pixels"
   ]
  },
  {
   "cell_type": "code",
   "execution_count": 5,
   "id": "081d1dfc-5d84-4c07-bb28-aab32eaee6dd",
   "metadata": {},
   "outputs": [
    {
     "data": {
      "text/plain": [
       "array([[0, 1, 0],\n",
       "       [0, 1, 1]])"
      ]
     },
     "execution_count": 5,
     "metadata": {},
     "output_type": "execute_result"
    }
   ],
   "source": [
    "#Checking 2nd example\n",
    "light_pixels = a1.light_pixels(image, 20, 'green')\n",
    "light_pixels"
   ]
  },
  {
   "cell_type": "code",
   "execution_count": 6,
   "id": "02dbacb0-ef0a-4941-a03c-ac1bc537fa97",
   "metadata": {},
   "outputs": [
    {
     "data": {
      "text/plain": [
       "array([[0, 0, 1],\n",
       "       [1, 1, 1]])"
      ]
     },
     "execution_count": 6,
     "metadata": {},
     "output_type": "execute_result"
    }
   ],
   "source": [
    "#Checking 3rd example\n",
    "light_pixels = a1.light_pixels(image, 15, 'blue')\n",
    "light_pixels"
   ]
  },
  {
   "cell_type": "code",
   "execution_count": null,
   "id": "3cac6745-5440-4b13-9072-ed619f2b070a",
   "metadata": {},
   "outputs": [],
   "source": []
  }
 ],
 "metadata": {
  "kernelspec": {
   "display_name": "Python 3 (ipykernel)",
   "language": "python",
   "name": "python3"
  },
  "language_info": {
   "codemirror_mode": {
    "name": "ipython",
    "version": 3
   },
   "file_extension": ".py",
   "mimetype": "text/x-python",
   "name": "python",
   "nbconvert_exporter": "python",
   "pygments_lexer": "ipython3",
   "version": "3.9.18"
  }
 },
 "nbformat": 4,
 "nbformat_minor": 5
}
