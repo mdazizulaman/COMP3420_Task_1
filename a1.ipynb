{
 "cells": [
  {
   "cell_type": "code",
   "execution_count": 1,
   "id": "858b9059-fd02-42bd-ad28-237f3a1e44f7",
   "metadata": {},
   "outputs": [],
   "source": [
    "#importing necessary libraries\n",
    "import pandas as pd\n",
    "import numpy as np\n",
    "import matplotlib.pyplot as plt\n",
    "%matplotlib inline\n",
    "%config InlineBackend.figure_formats = 'retina'\n",
    "import os\n",
    "import tensorflow as tf\n",
    "import keras\n",
    "import a1\n",
    "from tensorflow.keras.datasets import mnist\n",
    "from keras.models import Sequential\n",
    "from keras.layers import Input, Flatten, Dense, Dropout"
   ]
  },
  {
   "cell_type": "code",
   "execution_count": 2,
   "id": "e69ddfd0-f162-4ae8-9a21-1076480c93a8",
   "metadata": {},
   "outputs": [],
   "source": [
    "#defining numpy image array\n",
    "image = np.array([[[250,   2,   2], [  0, 255,   2], [  0,   0, 255]],\n",
    "                  [[  2,  20,  20], [250, 255, 255], [127, 127, 127]]])   "
   ]
  },
  {
   "cell_type": "code",
   "execution_count": 3,
   "id": "4f9cca64-30b6-4464-abe8-1006ef196710",
   "metadata": {},
   "outputs": [
    {
     "name": "stdout",
     "output_type": "stream",
     "text": [
      "2\n",
      "3\n"
     ]
    }
   ],
   "source": [
    "#Checking height|width/row|col\n",
    "rows, cols = image.shape[:2]\n",
    "print(rows)\n",
    "print(cols)"
   ]
  },
  {
   "cell_type": "code",
   "execution_count": 4,
   "id": "a7b98a92-3c3f-420d-8bea-a0c153ac0598",
   "metadata": {},
   "outputs": [
    {
     "ename": "NameError",
     "evalue": "name 'mask_row' is not defined",
     "output_type": "error",
     "traceback": [
      "\u001b[1;31m---------------------------------------------------------------------------\u001b[0m",
      "\u001b[1;31mNameError\u001b[0m                                 Traceback (most recent call last)",
      "Cell \u001b[1;32mIn[4], line 2\u001b[0m\n\u001b[0;32m      1\u001b[0m \u001b[38;5;66;03m#Checking 1st example\u001b[39;00m\n\u001b[1;32m----> 2\u001b[0m light_pixels \u001b[38;5;241m=\u001b[39m \u001b[43ma1\u001b[49m\u001b[38;5;241;43m.\u001b[39;49m\u001b[43mlight_pixels\u001b[49m\u001b[43m(\u001b[49m\u001b[43mimage\u001b[49m\u001b[43m,\u001b[49m\u001b[43m \u001b[49m\u001b[38;5;241;43m20\u001b[39;49m\u001b[43m,\u001b[49m\u001b[43m \u001b[49m\u001b[38;5;124;43m'\u001b[39;49m\u001b[38;5;124;43mred\u001b[39;49m\u001b[38;5;124;43m'\u001b[39;49m\u001b[43m)\u001b[49m\n\u001b[0;32m      3\u001b[0m light_pixels\n",
      "File \u001b[1;32m~\\Downloads\\Session 2 _ 2024\\COMP3420 Artificial Intelligence for Text and Vision\\assignment-1-mdazizulaman\\a1.py:29\u001b[0m, in \u001b[0;36mlight_pixels\u001b[1;34m(image, lightness, channel)\u001b[0m\n\u001b[0;32m     27\u001b[0m         \u001b[38;5;28;01melse\u001b[39;00m:\n\u001b[0;32m     28\u001b[0m             row\u001b[38;5;241m.\u001b[39mappend(\u001b[38;5;241m0\u001b[39m)\n\u001b[1;32m---> 29\u001b[0m     mask\u001b[38;5;241m.\u001b[39mappend(\u001b[43mmask_row\u001b[49m)  \u001b[38;5;66;03m# Add the row mask to the final mask\u001b[39;00m\n\u001b[0;32m     31\u001b[0m \u001b[38;5;66;03m# Convert the list of lists to a numpy array before returning\u001b[39;00m\n\u001b[0;32m     32\u001b[0m \u001b[38;5;28;01mreturn\u001b[39;00m np\u001b[38;5;241m.\u001b[39marray(mask)\n",
      "\u001b[1;31mNameError\u001b[0m: name 'mask_row' is not defined"
     ]
    }
   ],
   "source": [
    "#Checking 1st example\n",
    "light_pixels = a1.light_pixels(image, 20, 'red')\n",
    "light_pixels"
   ]
  },
  {
   "cell_type": "code",
   "execution_count": null,
   "id": "081d1dfc-5d84-4c07-bb28-aab32eaee6dd",
   "metadata": {},
   "outputs": [],
   "source": [
    "#Checking 2nd example\n",
    "light_pixels = a1.light_pixels(image, 20, 'green')\n",
    "light_pixels"
   ]
  },
  {
   "cell_type": "code",
   "execution_count": null,
   "id": "02dbacb0-ef0a-4941-a03c-ac1bc537fa97",
   "metadata": {},
   "outputs": [],
   "source": [
    "#Checking 3rd example\n",
    "light_pixels = a1.light_pixels(image, 15, 'blue')\n",
    "light_pixels"
   ]
  },
  {
   "cell_type": "code",
   "execution_count": null,
   "id": "3cac6745-5440-4b13-9072-ed619f2b070a",
   "metadata": {},
   "outputs": [],
   "source": []
  }
 ],
 "metadata": {
  "kernelspec": {
   "display_name": "Python 3 (ipykernel)",
   "language": "python",
   "name": "python3"
  },
  "language_info": {
   "codemirror_mode": {
    "name": "ipython",
    "version": 3
   },
   "file_extension": ".py",
   "mimetype": "text/x-python",
   "name": "python",
   "nbconvert_exporter": "python",
   "pygments_lexer": "ipython3",
   "version": "3.9.18"
  }
 },
 "nbformat": 4,
 "nbformat_minor": 5
}
